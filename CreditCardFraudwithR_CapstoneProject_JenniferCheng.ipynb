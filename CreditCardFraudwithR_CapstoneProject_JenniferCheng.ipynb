{
  "nbformat": 4,
  "nbformat_minor": 0,
  "metadata": {
    "colab": {
      "provenance": [],
      "gpuType": "T4"
    },
    "kernelspec": {
      "name": "ir",
      "display_name": "R"
    },
    "language_info": {
      "name": "R"
    },
    "accelerator": "GPU"
  },
  "cells": [
    {
      "cell_type": "code",
      "execution_count": 1,
      "metadata": {
        "colab": {
          "base_uri": "https://localhost:8080/"
        },
        "id": "VHiE3TlOHdrf",
        "outputId": "23422181-a3df-41b0-c9f6-582b75583c76"
      },
      "outputs": [
        {
          "output_type": "stream",
          "name": "stderr",
          "text": [
            "Loading required package: tidyverse\n",
            "\n",
            "── \u001b[1mAttaching core tidyverse packages\u001b[22m ──────────────────────── tidyverse 2.0.0 ──\n",
            "\u001b[32m✔\u001b[39m \u001b[34mdplyr    \u001b[39m 1.1.4     \u001b[32m✔\u001b[39m \u001b[34mreadr    \u001b[39m 2.1.5\n",
            "\u001b[32m✔\u001b[39m \u001b[34mforcats  \u001b[39m 1.0.0     \u001b[32m✔\u001b[39m \u001b[34mstringr  \u001b[39m 1.5.1\n",
            "\u001b[32m✔\u001b[39m \u001b[34mggplot2  \u001b[39m 3.5.1     \u001b[32m✔\u001b[39m \u001b[34mtibble   \u001b[39m 3.2.1\n",
            "\u001b[32m✔\u001b[39m \u001b[34mlubridate\u001b[39m 1.9.3     \u001b[32m✔\u001b[39m \u001b[34mtidyr    \u001b[39m 1.3.1\n",
            "\u001b[32m✔\u001b[39m \u001b[34mpurrr    \u001b[39m 1.0.2     \n",
            "── \u001b[1mConflicts\u001b[22m ────────────────────────────────────────── tidyverse_conflicts() ──\n",
            "\u001b[31m✖\u001b[39m \u001b[34mdplyr\u001b[39m::\u001b[32mfilter()\u001b[39m masks \u001b[34mstats\u001b[39m::filter()\n",
            "\u001b[31m✖\u001b[39m \u001b[34mdplyr\u001b[39m::\u001b[32mlag()\u001b[39m    masks \u001b[34mstats\u001b[39m::lag()\n",
            "\u001b[36mℹ\u001b[39m Use the conflicted package (\u001b[3m\u001b[34m<http://conflicted.r-lib.org/>\u001b[39m\u001b[23m) to force all conflicts to become errors\n",
            "Loading required package: kableExtra\n",
            "\n",
            "Warning message in library(package, lib.loc = lib.loc, character.only = TRUE, logical.return = TRUE, :\n",
            "“there is no package called ‘kableExtra’”\n",
            "Installing package into ‘/usr/local/lib/R/site-library’\n",
            "(as ‘lib’ is unspecified)\n",
            "\n",
            "also installing the dependency ‘svglite’\n",
            "\n",
            "\n",
            "Loading required package: gbm\n",
            "\n",
            "Warning message in library(package, lib.loc = lib.loc, character.only = TRUE, logical.return = TRUE, :\n",
            "“there is no package called ‘gbm’”\n",
            "Installing package into ‘/usr/local/lib/R/site-library’\n",
            "(as ‘lib’ is unspecified)\n",
            "\n",
            "Loading required package: caret\n",
            "\n",
            "Warning message in library(package, lib.loc = lib.loc, character.only = TRUE, logical.return = TRUE, :\n",
            "“there is no package called ‘caret’”\n",
            "Installing package into ‘/usr/local/lib/R/site-library’\n",
            "(as ‘lib’ is unspecified)\n",
            "\n",
            "also installing the dependencies ‘listenv’, ‘parallelly’, ‘future’, ‘globals’, ‘shape’, ‘future.apply’, ‘numDeriv’, ‘progressr’, ‘SQUAREM’, ‘diagram’, ‘lava’, ‘prodlim’, ‘proxy’, ‘iterators’, ‘clock’, ‘gower’, ‘hardhat’, ‘ipred’, ‘timeDate’, ‘e1071’, ‘foreach’, ‘ModelMetrics’, ‘plyr’, ‘pROC’, ‘recipes’, ‘reshape2’\n",
            "\n",
            "\n",
            "Loading required package: xgboost\n",
            "\n",
            "Warning message in library(package, lib.loc = lib.loc, character.only = TRUE, logical.return = TRUE, :\n",
            "“there is no package called ‘xgboost’”\n",
            "Installing package into ‘/usr/local/lib/R/site-library’\n",
            "(as ‘lib’ is unspecified)\n",
            "\n",
            "Loading required package: e1071\n",
            "\n",
            "Loading required package: class\n",
            "\n",
            "Loading required package: ROCR\n",
            "\n",
            "Warning message in library(package, lib.loc = lib.loc, character.only = TRUE, logical.return = TRUE, :\n",
            "“there is no package called ‘ROCR’”\n",
            "Installing package into ‘/usr/local/lib/R/site-library’\n",
            "(as ‘lib’ is unspecified)\n",
            "\n",
            "also installing the dependencies ‘bitops’, ‘gtools’, ‘caTools’, ‘gplots’\n",
            "\n",
            "\n",
            "Loading required package: randomForest\n",
            "\n",
            "Warning message in library(package, lib.loc = lib.loc, character.only = TRUE, logical.return = TRUE, :\n",
            "“there is no package called ‘randomForest’”\n",
            "Installing package into ‘/usr/local/lib/R/site-library’\n",
            "(as ‘lib’ is unspecified)\n",
            "\n",
            "Loading required package: PRROC\n",
            "\n",
            "Warning message in library(package, lib.loc = lib.loc, character.only = TRUE, logical.return = TRUE, :\n",
            "“there is no package called ‘PRROC’”\n",
            "Installing package into ‘/usr/local/lib/R/site-library’\n",
            "(as ‘lib’ is unspecified)\n",
            "\n",
            "Loading required package: reshape2\n",
            "\n",
            "\n",
            "Attaching package: ‘reshape2’\n",
            "\n",
            "\n",
            "The following object is masked from ‘package:tidyr’:\n",
            "\n",
            "    smiths\n",
            "\n",
            "\n"
          ]
        }
      ],
      "source": [
        "# Credit Card Fraud Detection\n",
        "# Author: Jennifer Cheng\n",
        "# Created on Nov 4, 2024\n",
        "\n",
        "\n",
        "\n",
        "# Install all needed libraries if it is not present\n",
        "\n",
        "if(!require(tidyverse)) install.packages(\"tidyverse\")\n",
        "if(!require(kableExtra)) install.packages(\"kableExtra\")\n",
        "if(!require(tidyr)) install.packages(\"tidyr\")\n",
        "if(!require(tidyverse)) install.packages(\"tidyverse\")\n",
        "if(!require(stringr)) install.packages(\"stringr\")\n",
        "if(!require(ggplot2)) install.packages(\"ggplot2\")\n",
        "if(!require(gbm)) install.packages(\"gbm\")\n",
        "if(!require(dplyr)) install.packages(\"dplyr\")\n",
        "if(!require(caret)) install.packages(\"caret\")\n",
        "if(!require(xgboost)) install.packages(\"xgboost\")\n",
        "if(!require(e1071)) install.packages(\"e1071\")\n",
        "if(!require(class)) install.packages(\"class\")\n",
        "if(!require(ROCR)) install.packages(\"ROCR\")\n",
        "if(!require(randomForest)) install.packages(\"randomForest\")\n",
        "if(!require(PRROC)) install.packages(\"PRROC\")\n",
        "if(!require(reshape2)) install.packages(\"reshape2\")"
      ]
    },
    {
      "cell_type": "code",
      "source": [
        "if(!require(xgboost)) install.packages(\"xgboost\")\n"
      ],
      "metadata": {
        "colab": {
          "base_uri": "https://localhost:8080/"
        },
        "id": "sehJqUh6LZSL",
        "outputId": "b6b5e6fa-a91c-4bb0-bbac-52db879f478f"
      },
      "execution_count": 7,
      "outputs": [
        {
          "output_type": "stream",
          "name": "stderr",
          "text": [
            "Loading required package: xgboost\n",
            "\n",
            "Warning message in library(package, lib.loc = lib.loc, character.only = TRUE, logical.return = TRUE, :\n",
            "“there is no package called ‘xgboost’”\n",
            "Installing package into ‘/usr/local/lib/R/site-library’\n",
            "(as ‘lib’ is unspecified)\n",
            "\n"
          ]
        }
      ]
    },
    {
      "cell_type": "code",
      "source": [
        "# Loading all needed libraries\n",
        "\n",
        "library(dplyr)\n",
        "library(tidyverse)\n",
        "library(kableExtra)\n",
        "library(tidyr)\n",
        "library(ggplot2)\n",
        "library(gbm)\n",
        "library(caret)\n",
        "library(xgboost)\n",
        "library(e1071)\n",
        "library(class)\n",
        "#library(lightgbm)\n",
        "library(ROCR)\n",
        "library(randomForest)\n",
        "library(PRROC)\n",
        "library(reshape2)"
      ],
      "metadata": {
        "colab": {
          "base_uri": "https://localhost:8080/",
          "height": 506
        },
        "id": "djuCY3I6IJbb",
        "outputId": "d08b4b1c-70e3-4c30-d1f3-1da7a4f40aa9"
      },
      "execution_count": 6,
      "outputs": [
        {
          "output_type": "stream",
          "name": "stderr",
          "text": [
            "\n",
            "Attaching package: ‘dplyr’\n",
            "\n",
            "\n",
            "The following objects are masked from ‘package:stats’:\n",
            "\n",
            "    filter, lag\n",
            "\n",
            "\n",
            "The following objects are masked from ‘package:base’:\n",
            "\n",
            "    intersect, setdiff, setequal, union\n",
            "\n",
            "\n",
            "── \u001b[1mAttaching core tidyverse packages\u001b[22m ──────────────────────── tidyverse 2.0.0 ──\n",
            "\u001b[32m✔\u001b[39m \u001b[34mforcats  \u001b[39m 1.0.0     \u001b[32m✔\u001b[39m \u001b[34mreadr    \u001b[39m 2.1.5\n",
            "\u001b[32m✔\u001b[39m \u001b[34mggplot2  \u001b[39m 3.5.1     \u001b[32m✔\u001b[39m \u001b[34mstringr  \u001b[39m 1.5.1\n",
            "\u001b[32m✔\u001b[39m \u001b[34mlubridate\u001b[39m 1.9.3     \u001b[32m✔\u001b[39m \u001b[34mtibble   \u001b[39m 3.2.1\n",
            "\u001b[32m✔\u001b[39m \u001b[34mpurrr    \u001b[39m 1.0.2     \u001b[32m✔\u001b[39m \u001b[34mtidyr    \u001b[39m 1.3.1\n",
            "── \u001b[1mConflicts\u001b[22m ────────────────────────────────────────── tidyverse_conflicts() ──\n",
            "\u001b[31m✖\u001b[39m \u001b[34mdplyr\u001b[39m::\u001b[32mfilter()\u001b[39m masks \u001b[34mstats\u001b[39m::filter()\n",
            "\u001b[31m✖\u001b[39m \u001b[34mdplyr\u001b[39m::\u001b[32mlag()\u001b[39m    masks \u001b[34mstats\u001b[39m::lag()\n",
            "\u001b[36mℹ\u001b[39m Use the conflicted package (\u001b[3m\u001b[34m<http://conflicted.r-lib.org/>\u001b[39m\u001b[23m) to force all conflicts to become errors\n"
          ]
        },
        {
          "output_type": "error",
          "ename": "ERROR",
          "evalue": "Error in library(kableExtra): there is no package called ‘kableExtra’\n",
          "traceback": [
            "Error in library(kableExtra): there is no package called ‘kableExtra’\nTraceback:\n",
            "1. stop(packageNotFoundError(package, lib.loc, sys.call()))"
          ]
        }
      ]
    },
    {
      "cell_type": "code",
      "source": [
        "## Loading the dataset\n",
        "\n",
        "creditcard <- read.csv(\"creditcard.csv\")"
      ],
      "metadata": {
        "id": "4XYRQuIsIKLI"
      },
      "execution_count": 8,
      "outputs": []
    },
    {
      "cell_type": "code",
      "source": [
        "# Check dimensions\n",
        "\n",
        "data.frame(\"Length\" = nrow(creditcard), \"Columns\" = ncol(creditcard)) %>%\n",
        "  kable() %>%\n",
        "  kable_styling(bootstrap_options = c(\"striped\", \"hover\", \"condensed\", \"responsive\"),\n",
        "                position = \"center\",\n",
        "                font_size = 10,\n",
        "                full_width = FALSE)\n",
        "\n",
        "imbalanced <- data.frame(creditcard)\n",
        "\n",
        "imbalanced$Class = ifelse(creditcard$Class == 0, 'Legal', 'Fraud') %>% as.factor()"
      ],
      "metadata": {
        "colab": {
          "base_uri": "https://localhost:8080/",
          "height": 260
        },
        "id": "VTgV1aB1IRbS",
        "outputId": "5bf486a1-ecef-4d8a-e2e0-a4ac7dcb7f6a"
      },
      "execution_count": 9,
      "outputs": [
        {
          "output_type": "display_data",
          "data": {
            "text/plain": [
              "<table class=\"table table-striped table-hover table-condensed table-responsive\" style=\"font-size: 10px; width: auto !important; margin-left: auto; margin-right: auto;\">\n",
              " <thead>\n",
              "  <tr>\n",
              "   <th style=\"text-align:right;\"> Length </th>\n",
              "   <th style=\"text-align:right;\"> Columns </th>\n",
              "  </tr>\n",
              " </thead>\n",
              "<tbody>\n",
              "  <tr>\n",
              "   <td style=\"text-align:right;\"> 284807 </td>\n",
              "   <td style=\"text-align:right;\"> 31 </td>\n",
              "  </tr>\n",
              "</tbody>\n",
              "</table>"
            ]
          },
          "metadata": {}
        }
      ]
    },
    {
      "cell_type": "code",
      "source": [
        "# Visualize the proportion between classes\n",
        "\n",
        "imbalanced %>%\n",
        "  ggplot(aes(Class)) +\n",
        "  theme_minimal()  +\n",
        "  geom_bar() +\n",
        "  scale_x_discrete() +\n",
        "  scale_y_continuous(labels = scales::comma) +\n",
        "  labs(title = \"Proportions between Legal and Frauds Transactions\",\n",
        "       x = \"Class\",\n",
        "       y = \"Frequency\")"
      ],
      "metadata": {
        "colab": {
          "base_uri": "https://localhost:8080/",
          "height": 437
        },
        "id": "Ew8Ren5GISs2",
        "outputId": "15e4cf03-1e7e-4524-a3d1-e5fa619bc1a3"
      },
      "execution_count": 10,
      "outputs": [
        {
          "output_type": "display_data",
          "data": {
            "text/plain": [
              "plot without title"
            ],
            "image/png": "[encoded data removed]"
          },
          "metadata": {
            "image/png": {
              "width": 420,
              "height": 420
            }
          }
        }
      ]
    },
    {
      "cell_type": "code",
      "source": [
        "# Find missing values\n",
        "\n",
        "sapply(creditcard, function(x) sum(is.na(x))) %>%\n",
        "  kable(col.names = c(\"Missing Values\")) %>%\n",
        "  kable_styling(bootstrap_options = c(\"striped\", \"hover\", \"condensed\", \"responsive\"),\n",
        "                position = \"center\",\n",
        "                font_size = 10,\n",
        "                full_width = FALSE)"
      ],
      "metadata": {
        "colab": {
          "base_uri": "https://localhost:8080/",
          "height": 1000
        },
        "id": "DWL4rISLIVgb",
        "outputId": "4e291024-1f73-4eb9-eb0f-63e788d03db0"
      },
      "execution_count": 11,
      "outputs": [
        {
          "output_type": "display_data",
          "data": {
            "text/plain": [
              "<table class=\"table table-striped table-hover table-condensed table-responsive\" style=\"font-size: 10px; width: auto !important; margin-left: auto; margin-right: auto;\">\n",
              " <thead>\n",
              "  <tr>\n",
              "   <th style=\"text-align:left;\">  </th>\n",
              "   <th style=\"text-align:right;\"> Missing Values </th>\n",
              "  </tr>\n",
              " </thead>\n",
              "<tbody>\n",
              "  <tr>\n",
              "   <td style=\"text-align:left;\"> Time </td>\n",
              "   <td style=\"text-align:right;\"> 0 </td>\n",
              "  </tr>\n",
              "  <tr>\n",
              "   <td style=\"text-align:left;\"> V1 </td>\n",
              "   <td style=\"text-align:right;\"> 0 </td>\n",
              "  </tr>\n",
              "  <tr>\n",
              "   <td style=\"text-align:left;\"> V2 </td>\n",
              "   <td style=\"text-align:right;\"> 0 </td>\n",
              "  </tr>\n",
              "  <tr>\n",
              "   <td style=\"text-align:left;\"> V3 </td>\n",
              "   <td style=\"text-align:right;\"> 0 </td>\n",
              "  </tr>\n",
              "  <tr>\n",
              "   <td style=\"text-align:left;\"> V4 </td>\n",
              "   <td style=\"text-align:right;\"> 0 </td>\n",
              "  </tr>\n",
              "  <tr>\n",
              "   <td style=\"text-align:left;\"> V5 </td>\n",
              "   <td style=\"text-align:right;\"> 0 </td>\n",
              "  </tr>\n",
              "  <tr>\n",
              "   <td style=\"text-align:left;\"> V6 </td>\n",
              "   <td style=\"text-align:right;\"> 0 </td>\n",
              "  </tr>\n",
              "  <tr>\n",
              "   <td style=\"text-align:left;\"> V7 </td>\n",
              "   <td style=\"text-align:right;\"> 0 </td>\n",
              "  </tr>\n",
              "  <tr>\n",
              "   <td style=\"text-align:left;\"> V8 </td>\n",
              "   <td style=\"text-align:right;\"> 0 </td>\n",
              "  </tr>\n",
              "  <tr>\n",
              "   <td style=\"text-align:left;\"> V9 </td>\n",
              "   <td style=\"text-align:right;\"> 0 </td>\n",
              "  </tr>\n",
              "  <tr>\n",
              "   <td style=\"text-align:left;\"> V10 </td>\n",
              "   <td style=\"text-align:right;\"> 0 </td>\n",
              "  </tr>\n",
              "  <tr>\n",
              "   <td style=\"text-align:left;\"> V11 </td>\n",
              "   <td style=\"text-align:right;\"> 0 </td>\n",
              "  </tr>\n",
              "  <tr>\n",
              "   <td style=\"text-align:left;\"> V12 </td>\n",
              "   <td style=\"text-align:right;\"> 0 </td>\n",
              "  </tr>\n",
              "  <tr>\n",
              "   <td style=\"text-align:left;\"> V13 </td>\n",
              "   <td style=\"text-align:right;\"> 0 </td>\n",
              "  </tr>\n",
              "  <tr>\n",
              "   <td style=\"text-align:left;\"> V14 </td>\n",
              "   <td style=\"text-align:right;\"> 0 </td>\n",
              "  </tr>\n",
              "  <tr>\n",
              "   <td style=\"text-align:left;\"> V15 </td>\n",
              "   <td style=\"text-align:right;\"> 0 </td>\n",
              "  </tr>\n",
              "  <tr>\n",
              "   <td style=\"text-align:left;\"> V16 </td>\n",
              "   <td style=\"text-align:right;\"> 0 </td>\n",
              "  </tr>\n",
              "  <tr>\n",
              "   <td style=\"text-align:left;\"> V17 </td>\n",
              "   <td style=\"text-align:right;\"> 0 </td>\n",
              "  </tr>\n",
              "  <tr>\n",
              "   <td style=\"text-align:left;\"> V18 </td>\n",
              "   <td style=\"text-align:right;\"> 0 </td>\n",
              "  </tr>\n",
              "  <tr>\n",
              "   <td style=\"text-align:left;\"> V19 </td>\n",
              "   <td style=\"text-align:right;\"> 0 </td>\n",
              "  </tr>\n",
              "  <tr>\n",
              "   <td style=\"text-align:left;\"> V20 </td>\n",
              "   <td style=\"text-align:right;\"> 0 </td>\n",
              "  </tr>\n",
              "  <tr>\n",
              "   <td style=\"text-align:left;\"> V21 </td>\n",
              "   <td style=\"text-align:right;\"> 0 </td>\n",
              "  </tr>\n",
              "  <tr>\n",
              "   <td style=\"text-align:left;\"> V22 </td>\n",
              "   <td style=\"text-align:right;\"> 0 </td>\n",
              "  </tr>\n",
              "  <tr>\n",
              "   <td style=\"text-align:left;\"> V23 </td>\n",
              "   <td style=\"text-align:right;\"> 0 </td>\n",
              "  </tr>\n",
              "  <tr>\n",
              "   <td style=\"text-align:left;\"> V24 </td>\n",
              "   <td style=\"text-align:right;\"> 0 </td>\n",
              "  </tr>\n",
              "  <tr>\n",
              "   <td style=\"text-align:left;\"> V25 </td>\n",
              "   <td style=\"text-align:right;\"> 0 </td>\n",
              "  </tr>\n",
              "  <tr>\n",
              "   <td style=\"text-align:left;\"> V26 </td>\n",
              "   <td style=\"text-align:right;\"> 0 </td>\n",
              "  </tr>\n",
              "  <tr>\n",
              "   <td style=\"text-align:left;\"> V27 </td>\n",
              "   <td style=\"text-align:right;\"> 0 </td>\n",
              "  </tr>\n",
              "  <tr>\n",
              "   <td style=\"text-align:left;\"> V28 </td>\n",
              "   <td style=\"text-align:right;\"> 0 </td>\n",
              "  </tr>\n",
              "  <tr>\n",
              "   <td style=\"text-align:left;\"> Amount </td>\n",
              "   <td style=\"text-align:right;\"> 0 </td>\n",
              "  </tr>\n",
              "  <tr>\n",
              "   <td style=\"text-align:left;\"> Class </td>\n",
              "   <td style=\"text-align:right;\"> 0 </td>\n",
              "  </tr>\n",
              "</tbody>\n",
              "</table>"
            ]
          },
          "metadata": {}
        }
      ]
    },
    {
      "cell_type": "code",
      "source": [
        "# Frauds Amount\n",
        "\n",
        "creditcard[creditcard$Class == 1,] %>%\n",
        "  ggplot(aes(Amount)) +\n",
        "  theme_minimal()  +\n",
        "  geom_histogram(binwidth = 40) +\n",
        "  labs(title = \"Frauds Amounts Distributions\",\n",
        "       x = \"Amount in dollars\",\n",
        "       y = \"Frequency\")"
      ],
      "metadata": {
        "colab": {
          "base_uri": "https://localhost:8080/",
          "height": 437
        },
        "id": "U9WfahlvIZWv",
        "outputId": "9a05df52-449b-4c88-e451-1d4bccd276fd"
      },
      "execution_count": 12,
      "outputs": [
        {
          "output_type": "display_data",
          "data": {
            "text/plain": [
              "plot without title"
            ],
            "image/png": "[encoded data removed]"
          },
          "metadata": {
            "image/png": {
              "width": 420,
              "height": 420
            }
          }
        }
      ]
    },
    {
      "cell_type": "code",
      "source": [
        "creditcard[creditcard$Class == 1,] %>%\n",
        "  group_by(Amount) %>%\n",
        "  summarise(count = n()) %>%\n",
        "  arrange(desc(count)) %>%\n",
        "  head(n=10) %>%\n",
        "  kable() %>%\n",
        "  kable_styling(bootstrap_options = c(\"striped\", \"hover\", \"condensed\", \"responsive\"),\n",
        "                position = \"center\",\n",
        "                font_size = 10,\n",
        "                full_width = FALSE)\n"
      ],
      "metadata": {
        "colab": {
          "base_uri": "https://localhost:8080/",
          "height": 885
        },
        "id": "0KehODhBIa3J",
        "outputId": "4269f270-c691-41ee-8b20-8e66287c73f5"
      },
      "execution_count": 13,
      "outputs": [
        {
          "output_type": "display_data",
          "data": {
            "text/plain": [
              "<table class=\"table table-striped table-hover table-condensed table-responsive\" style=\"font-size: 10px; width: auto !important; margin-left: auto; margin-right: auto;\">\n",
              " <thead>\n",
              "  <tr>\n",
              "   <th style=\"text-align:right;\"> Amount </th>\n",
              "   <th style=\"text-align:right;\"> count </th>\n",
              "  </tr>\n",
              " </thead>\n",
              "<tbody>\n",
              "  <tr>\n",
              "   <td style=\"text-align:right;\"> 1.00 </td>\n",
              "   <td style=\"text-align:right;\"> 113 </td>\n",
              "  </tr>\n",
              "  <tr>\n",
              "   <td style=\"text-align:right;\"> 0.00 </td>\n",
              "   <td style=\"text-align:right;\"> 27 </td>\n",
              "  </tr>\n",
              "  <tr>\n",
              "   <td style=\"text-align:right;\"> 99.99 </td>\n",
              "   <td style=\"text-align:right;\"> 27 </td>\n",
              "  </tr>\n",
              "  <tr>\n",
              "   <td style=\"text-align:right;\"> 0.76 </td>\n",
              "   <td style=\"text-align:right;\"> 17 </td>\n",
              "  </tr>\n",
              "  <tr>\n",
              "   <td style=\"text-align:right;\"> 0.77 </td>\n",
              "   <td style=\"text-align:right;\"> 10 </td>\n",
              "  </tr>\n",
              "  <tr>\n",
              "   <td style=\"text-align:right;\"> 0.01 </td>\n",
              "   <td style=\"text-align:right;\"> 5 </td>\n",
              "  </tr>\n",
              "  <tr>\n",
              "   <td style=\"text-align:right;\"> 2.00 </td>\n",
              "   <td style=\"text-align:right;\"> 4 </td>\n",
              "  </tr>\n",
              "  <tr>\n",
              "   <td style=\"text-align:right;\"> 3.79 </td>\n",
              "   <td style=\"text-align:right;\"> 4 </td>\n",
              "  </tr>\n",
              "  <tr>\n",
              "   <td style=\"text-align:right;\"> 0.68 </td>\n",
              "   <td style=\"text-align:right;\"> 3 </td>\n",
              "  </tr>\n",
              "  <tr>\n",
              "   <td style=\"text-align:right;\"> 1.10 </td>\n",
              "   <td style=\"text-align:right;\"> 3 </td>\n",
              "  </tr>\n",
              "</tbody>\n",
              "</table>"
            ]
          },
          "metadata": {}
        }
      ]
    },
    {
      "cell_type": "code",
      "source": [
        "\n",
        "# Frauds over Time\n",
        "\n",
        "creditcard[creditcard$Class == 1,] %>%\n",
        "  ggplot(aes(Time)) +\n",
        "  theme_minimal()  +\n",
        "  geom_histogram(binwidth = 40) +\n",
        "  labs(title = \"Frauds over Time Distributions\",\n",
        "       x = \"Time\",\n",
        "       y = \"Frequency\")\n",
        "\n",
        "creditcard[creditcard$Class == 1,] %>%\n",
        "  group_by(Time) %>%\n",
        "  summarise(count = n()) %>%\n",
        "  arrange(desc(count)) %>%\n",
        "  head(n=10) %>%\n",
        "  kable() %>%\n",
        "  kable_styling(bootstrap_options = c(\"striped\", \"hover\", \"condensed\", \"responsive\"),\n",
        "                position = \"center\",\n",
        "                font_size = 10,\n",
        "                full_width = FALSE)"
      ],
      "metadata": {
        "colab": {
          "base_uri": "https://localhost:8080/",
          "height": 1000
        },
        "id": "Ok-zzUmuIchC",
        "outputId": "cd67b838-6aaa-49a9-8a9d-82a4994642e2"
      },
      "execution_count": 14,
      "outputs": [
        {
          "output_type": "display_data",
          "data": {
            "text/plain": [
              "<table class=\"table table-striped table-hover table-condensed table-responsive\" style=\"font-size: 10px; width: auto !important; margin-left: auto; margin-right: auto;\">\n",
              " <thead>\n",
              "  <tr>\n",
              "   <th style=\"text-align:right;\"> Time </th>\n",
              "   <th style=\"text-align:right;\"> count </th>\n",
              "  </tr>\n",
              " </thead>\n",
              "<tbody>\n",
              "  <tr>\n",
              "   <td style=\"text-align:right;\"> 68207 </td>\n",
              "   <td style=\"text-align:right;\"> 6 </td>\n",
              "  </tr>\n",
              "  <tr>\n",
              "   <td style=\"text-align:right;\"> 84204 </td>\n",
              "   <td style=\"text-align:right;\"> 4 </td>\n",
              "  </tr>\n",
              "  <tr>\n",
              "   <td style=\"text-align:right;\"> 85285 </td>\n",
              "   <td style=\"text-align:right;\"> 4 </td>\n",
              "  </tr>\n",
              "  <tr>\n",
              "   <td style=\"text-align:right;\"> 93853 </td>\n",
              "   <td style=\"text-align:right;\"> 4 </td>\n",
              "  </tr>\n",
              "  <tr>\n",
              "   <td style=\"text-align:right;\"> 93860 </td>\n",
              "   <td style=\"text-align:right;\"> 4 </td>\n",
              "  </tr>\n",
              "  <tr>\n",
              "   <td style=\"text-align:right;\"> 93879 </td>\n",
              "   <td style=\"text-align:right;\"> 4 </td>\n",
              "  </tr>\n",
              "  <tr>\n",
              "   <td style=\"text-align:right;\"> 94362 </td>\n",
              "   <td style=\"text-align:right;\"> 4 </td>\n",
              "  </tr>\n",
              "  <tr>\n",
              "   <td style=\"text-align:right;\"> 148053 </td>\n",
              "   <td style=\"text-align:right;\"> 2 </td>\n",
              "  </tr>\n",
              "  <tr>\n",
              "   <td style=\"text-align:right;\"> 406 </td>\n",
              "   <td style=\"text-align:right;\"> 1 </td>\n",
              "  </tr>\n",
              "  <tr>\n",
              "   <td style=\"text-align:right;\"> 472 </td>\n",
              "   <td style=\"text-align:right;\"> 1 </td>\n",
              "  </tr>\n",
              "</tbody>\n",
              "</table>"
            ]
          },
          "metadata": {}
        },
        {
          "output_type": "display_data",
          "data": {
            "text/plain": [
              "plot without title"
            ],
            "image/png": "[encoded data removed]"
          },
          "metadata": {
            "image/png": {
              "width": 420,
              "height": 420
            }
          }
        }
      ]
    },
    {
      "cell_type": "code",
      "source": [
        "\n",
        "# Get lower triangle of the correlation matrix\n",
        "\n",
        "get_lower_tri<-function(cormat){\n",
        "  cormat[upper.tri(cormat)] <- NA\n",
        "  return(cormat)\n",
        "}"
      ],
      "metadata": {
        "id": "uCjo5BloIiSC"
      },
      "execution_count": 15,
      "outputs": []
    },
    {
      "cell_type": "code",
      "source": [
        "# Get upper triangle of the correlation matrix\n",
        "\n",
        "get_upper_tri <- function(cormat){\n",
        "  cormat[lower.tri(cormat)]<- NA\n",
        "  return(cormat)\n",
        "}"
      ],
      "metadata": {
        "id": "bt7O1_4_IkQ9"
      },
      "execution_count": 16,
      "outputs": []
    },
    {
      "cell_type": "code",
      "source": [
        "\n",
        "reorder_cormat <- function(cormat){\n",
        "  # Use correlation between variables as distance\n",
        "  dd <- as.dist((1-cormat)/2)\n",
        "  hc <- hclust(dd)\n",
        "  cormat <-cormat[hc$order, hc$order]\n",
        "}"
      ],
      "metadata": {
        "id": "J5TpAzs2IldB"
      },
      "execution_count": 17,
      "outputs": []
    },
    {
      "cell_type": "code",
      "source": [
        "\n",
        "corr_matrix <- round(cor(creditcard),2)\n",
        "corr_matrix <- reorder_cormat(corr_matrix)\n",
        "\n",
        "upper_tri <- get_upper_tri(corr_matrix)\n",
        "\n",
        "melted_corr_matrix <- melt(upper_tri, na.rm = TRUE)\n",
        "\n",
        "\n",
        "ggplot(melted_corr_matrix, aes(Var2, Var1, fill = value)) +\n",
        "  geom_tile(color = \"white\") +\n",
        "  scale_fill_gradient2(low = \"blue\", high = \"red\", mid = \"white\",\n",
        "                       midpoint = 0, limit = c(-1,1), space = \"Lab\",\n",
        "                       name=\"Pearson\\nCorrelation\") +\n",
        "  theme_minimal() +\n",
        "  theme(axis.text.x = element_text(angle = 90, vjust = 1,\n",
        "                                   size = 9, hjust = 1), axis.text.y = element_text(size = 9),                    axis.title.x = element_blank(),\n",
        "        axis.title.y = element_blank(),\n",
        "        panel.grid.major = element_blank(),\n",
        "        panel.border = element_blank(),\n",
        "        panel.background = element_blank(),\n",
        "        axis.ticks = element_blank()) +\n",
        "  coord_fixed()"
      ],
      "metadata": {
        "colab": {
          "base_uri": "https://localhost:8080/",
          "height": 437
        },
        "id": "VAbITMeyInpB",
        "outputId": "10c2c131-4259-4691-958b-35f0431324e1"
      },
      "execution_count": 18,
      "outputs": [
        {
          "output_type": "display_data",
          "data": {
            "text/plain": [
              "plot without title"
            ],
            "image/png": "[encoded data removed]"
          },
          "metadata": {
            "image/png": {
              "width": 420,
              "height": 420
            }
          }
        }
      ]
    },
    {
      "cell_type": "code",
      "source": [
        "\n",
        "# Set seed for reproducibility\n",
        "\n",
        "set.seed(1234)"
      ],
      "metadata": {
        "id": "i-SGitIkIvbm"
      },
      "execution_count": 19,
      "outputs": []
    },
    {
      "cell_type": "code",
      "source": [
        "\n",
        "# Remove the \"Time\" column from the dataset\n",
        "\n",
        "creditcard$Class <- as.factor(creditcard$Class)\n",
        "creditcard <- creditcard %>% select(-Time)"
      ],
      "metadata": {
        "id": "0Z2i7qy2Iw7h"
      },
      "execution_count": 20,
      "outputs": []
    },
    {
      "cell_type": "code",
      "source": [
        "\n",
        "# Split the dataset into train, test dataset and cv\n",
        "\n",
        "train_index <- createDataPartition(\n",
        "  y = creditcard$Class,\n",
        "  p = .6,\n",
        "  list = F\n",
        ")\n",
        "\n",
        "train <- creditcard[train_index,]\n",
        "\n",
        "test_cv <- creditcard[-train_index,]\n",
        "\n",
        "test_index <- createDataPartition(\n",
        "  y = test_cv$Class,\n",
        "  p = .5,\n",
        "  list = F)\n",
        "\n",
        "test <- test_cv[test_index,]\n",
        "cv <- test_cv[-test_index,]\n",
        "\n",
        "rm(train_index, test_index, test_cv)"
      ],
      "metadata": {
        "id": "dwx6ThTVIyO5"
      },
      "execution_count": 21,
      "outputs": []
    },
    {
      "cell_type": "code",
      "source": [
        "\n",
        "# Create a baseline model that predict always \"legal\"\n",
        "# (aka \"0\") transactions and compute all metrics\n",
        "\n",
        "# Clone the creditcard dataframe\n",
        "\n",
        "baseline_model <- data.frame(creditcard)\n",
        "\n",
        "# Set Class al to Legal (0)\n",
        "\n",
        "baseline_model$Class = factor(0, c(0,1))"
      ],
      "metadata": {
        "id": "NEtxsGrfI1EU"
      },
      "execution_count": 22,
      "outputs": []
    },
    {
      "cell_type": "code",
      "source": [
        "\n",
        "# Make predictions\n",
        "\n",
        "pred <- prediction(\n",
        "  as.numeric(as.character(baseline_model$Class)), as.numeric(as.character(creditcard$Class))\n",
        ")"
      ],
      "metadata": {
        "id": "plvFWGCnI4FL"
      },
      "execution_count": 23,
      "outputs": []
    },
    {
      "cell_type": "code",
      "source": [
        "\n",
        "# Compute the AUC and AUCPR\n",
        "\n",
        "auc_val_baseline <- performance(pred, \"auc\")\n",
        "auc_plot_baseline <- performance(pred, 'sens', 'spec')\n",
        "aucpr_plot_baseline <- performance(pred, \"prec\", \"rec\")"
      ],
      "metadata": {
        "id": "JveKiB5UI9Hk"
      },
      "execution_count": 24,
      "outputs": []
    },
    {
      "cell_type": "code",
      "source": [
        "\n",
        "# Make the relative plot\n",
        "\n",
        "plot(auc_plot_baseline,\n",
        "     main=paste(\"AUC:\",\n",
        "                auc_val_baseline@y.values[[1]])\n",
        ")\n",
        "\n",
        "plot(aucpr_plot_baseline, main=\"AUCPR: 0\")"
      ],
      "metadata": {
        "colab": {
          "base_uri": "https://localhost:8080/",
          "height": 857
        },
        "id": "4TZ8zr_8I_aD",
        "outputId": "bd509f09-1af7-4f35-b34e-bc76f84a192f"
      },
      "execution_count": 25,
      "outputs": [
        {
          "output_type": "display_data",
          "data": {
            "text/plain": [
              "Plot with title “AUC: 0.5”"
            ],
            "image/png": "[encoded data removed]"
          },
          "metadata": {
            "image/png": {
              "width": 420,
              "height": 420
            }
          }
        },
        {
          "output_type": "display_data",
          "data": {
            "text/plain": [
              "Plot with title “AUCPR: 0”"
            ],
            "image/png": "[encoded data removed]"
          },
          "metadata": {
            "image/png": {
              "width": 420,
              "height": 420
            }
          }
        }
      ]
    },
    {
      "cell_type": "code",
      "source": [
        "\n",
        "# Create a dataframe 'results' that contains all metrics\n",
        "# obtained by the trained models\n",
        "\n",
        "results <- data.frame(\n",
        "  Model = \"Naive Baseline - Predict Always Legal\",\n",
        "  AUC = auc_val_baseline@y.values[[1]],\n",
        "  AUCPR = 0\n",
        ")"
      ],
      "metadata": {
        "id": "18SF-knnJBNO"
      },
      "execution_count": 26,
      "outputs": []
    },
    {
      "cell_type": "code",
      "source": [
        "\n",
        "# Show results on a table\n",
        "\n",
        "results %>%\n",
        "  kable() %>%\n",
        "  kable_styling(\n",
        "    bootstrap_options =\n",
        "      c(\"striped\", \"hover\", \"condensed\", \"responsive\"),\n",
        "    position = \"center\",\n",
        "    font_size = 10,\n",
        "    full_width = FALSE\n",
        "  )"
      ],
      "metadata": {
        "colab": {
          "base_uri": "https://localhost:8080/",
          "height": 295
        },
        "id": "g3v3uwB4JDJA",
        "outputId": "a178e0d0-f5e7-43fd-dba8-35441857d4d5"
      },
      "execution_count": 27,
      "outputs": [
        {
          "output_type": "display_data",
          "data": {
            "text/plain": [
              "<table class=\"table table-striped table-hover table-condensed table-responsive\" style=\"font-size: 10px; width: auto !important; margin-left: auto; margin-right: auto;\">\n",
              " <thead>\n",
              "  <tr>\n",
              "   <th style=\"text-align:left;\"> Model </th>\n",
              "   <th style=\"text-align:right;\"> AUC </th>\n",
              "   <th style=\"text-align:right;\"> AUCPR </th>\n",
              "  </tr>\n",
              " </thead>\n",
              "<tbody>\n",
              "  <tr>\n",
              "   <td style=\"text-align:left;\"> Naive Baseline - Predict Always Legal </td>\n",
              "   <td style=\"text-align:right;\"> 0.5 </td>\n",
              "   <td style=\"text-align:right;\"> 0 </td>\n",
              "  </tr>\n",
              "</tbody>\n",
              "</table>"
            ]
          },
          "metadata": {}
        }
      ]
    },
    {
      "cell_type": "code",
      "source": [
        "# Create a Naive Bayes Model, it will improve a little bit the\n",
        "# results in AUC and AUCPR\n",
        "\n",
        "# Set seed 1234 for reproducibility\n",
        "\n",
        "set.seed(1234)\n",
        "\n",
        "# Build the model with Class as target and all other variables\n",
        "# as predictors\n",
        "\n",
        "naive_model <- naiveBayes(Class ~ ., data = train, laplace=1)"
      ],
      "metadata": {
        "id": "USKnmicmJHHr"
      },
      "execution_count": 28,
      "outputs": []
    },
    {
      "cell_type": "code",
      "source": [
        "\n",
        "# Predict\n",
        "\n",
        "predictions <- predict(naive_model, newdata=test)\n",
        "\n",
        "# Compute the AUC and AUCPR for the Naive Model\n",
        "\n",
        "pred <- prediction(as.numeric(predictions) , test$Class)\n",
        "\n",
        "auc_val_naive <- performance(pred, \"auc\")\n",
        "\n",
        "auc_plot_naive <- performance(pred, 'sens', 'spec')\n",
        "aucpr_plot_naive <- performance(pred, \"prec\", \"rec\")\n",
        "\n",
        "aucpr_val_naive <- pr.curve(\n",
        "  scores.class0 = predictions[test$Class == 1],\n",
        "  scores.class1 = predictions[test$Class == 0],\n",
        "  curve = T,\n",
        "  dg.compute = T\n",
        ")"
      ],
      "metadata": {
        "id": "EeSEy-qkJNju"
      },
      "execution_count": 29,
      "outputs": []
    },
    {
      "cell_type": "code",
      "source": [
        "# Make the relative plot\n",
        "\n",
        "plot(aucpr_val_naive)\n",
        "plot(auc_plot_naive, main=paste(\"AUC:\", auc_val_naive@y.values[[1]]))\n",
        "plot(aucpr_plot_naive, main=paste(\"AUCPR:\", aucpr_val_naive$auc.integral))\n"
      ],
      "metadata": {
        "colab": {
          "base_uri": "https://localhost:8080/",
          "height": 1000
        },
        "id": "cTyigSrbJPzC",
        "outputId": "1bf14e3e-578c-4a88-a933-536c99532909"
      },
      "execution_count": 30,
      "outputs": [
        {
          "output_type": "display_data",
          "data": {
            "text/plain": [
              "Plot with title “PR curve\n",
              "AUC = 0.05489693”"
            ],
            "image/png": "[encoded data removed]"
          },
          "metadata": {
            "image/png": {
              "width": 420,
              "height": 420
            }
          }
        },
        {
          "output_type": "display_data",
          "data": {
            "text/plain": [
              "Plot with title “AUC: 0.917597684660626”"
            ],
            "image/png": "[encoded data removed]"
          },
          "metadata": {
            "image/png": {
              "width": 420,
              "height": 420
            }
          }
        },
        {
          "output_type": "display_data",
          "data": {
            "text/plain": [
              "Plot with title “AUCPR: 0.0548969303984264”"
            ],
            "image/png": "[encoded data removed]"
          },
          "metadata": {
            "image/png": {
              "width": 420,
              "height": 420
            }
          }
        }
      ]
    },
    {
      "cell_type": "code",
      "source": [
        "\n",
        "# Adding the respective metrics to the results dataset\n",
        "\n",
        "results <- results %>% add_row(\n",
        "  Model = \"Naive Bayes\",\n",
        "  AUC = auc_val_naive@y.values[[1]],\n",
        "  AUCPR = aucpr_val_naive$auc.integral\n",
        ")"
      ],
      "metadata": {
        "id": "k2r6nUGTJR4N"
      },
      "execution_count": 31,
      "outputs": []
    },
    {
      "cell_type": "code",
      "source": [
        "\n",
        "# Show results on a table\n",
        "\n",
        "results %>%\n",
        "  kable() %>%\n",
        "  kable_styling(bootstrap_options = c(\"striped\", \"hover\", \"condensed\", \"responsive\"),\n",
        "                position = \"center\",\n",
        "                font_size = 10,\n",
        "                full_width = FALSE)"
      ],
      "metadata": {
        "colab": {
          "base_uri": "https://localhost:8080/",
          "height": 382
        },
        "id": "Mtf0Fu9OJTPS",
        "outputId": "e676b58a-02a3-4032-d2d3-91f1e9e68090"
      },
      "execution_count": 32,
      "outputs": [
        {
          "output_type": "display_data",
          "data": {
            "text/plain": [
              "<table class=\"table table-striped table-hover table-condensed table-responsive\" style=\"font-size: 10px; width: auto !important; margin-left: auto; margin-right: auto;\">\n",
              " <thead>\n",
              "  <tr>\n",
              "   <th style=\"text-align:left;\"> Model </th>\n",
              "   <th style=\"text-align:right;\"> AUC </th>\n",
              "   <th style=\"text-align:right;\"> AUCPR </th>\n",
              "  </tr>\n",
              " </thead>\n",
              "<tbody>\n",
              "  <tr>\n",
              "   <td style=\"text-align:left;\"> Naive Baseline - Predict Always Legal </td>\n",
              "   <td style=\"text-align:right;\"> 0.5000000 </td>\n",
              "   <td style=\"text-align:right;\"> 0.0000000 </td>\n",
              "  </tr>\n",
              "  <tr>\n",
              "   <td style=\"text-align:left;\"> Naive Bayes </td>\n",
              "   <td style=\"text-align:right;\"> 0.9175977 </td>\n",
              "   <td style=\"text-align:right;\"> 0.0548969 </td>\n",
              "  </tr>\n",
              "</tbody>\n",
              "</table>"
            ]
          },
          "metadata": {}
        }
      ]
    },
    {
      "cell_type": "code",
      "source": [
        "\n",
        "# Set seed 1234 for reproducibility\n",
        "\n",
        "set.seed(1234)\n",
        "\n",
        "# Build a KNN Model with Class as Target and all other\n",
        "# variables as predictors. k is set to 5\n",
        "\n",
        "knn_model <- knn(train[,-30], test[,-30], train$Class, k=5, prob = TRUE)\n",
        "\n",
        "# Compute the AUC and AUCPR for the KNN Model\n",
        "\n",
        "pred <- prediction(\n",
        "  as.numeric(as.character(knn_model)), as.numeric(as.character(test$Class))\n",
        ")\n",
        "\n",
        "auc_val_knn <- performance(pred, \"auc\")\n",
        "\n",
        "auc_plot_knn <- performance(pred, 'sens', 'spec')\n",
        "aucpr_plot_knn <- performance(pred, \"prec\", \"rec\")\n",
        "\n",
        "aucpr_val_knn <- pr.curve(\n",
        "  scores.class0 = knn_model[test$Class == 1],\n",
        "  scores.class1 = knn_model[test$Class == 0],\n",
        "  curve = T,\n",
        "  dg.compute = T\n",
        ")"
      ],
      "metadata": {
        "id": "VOKdhKWPJWCE"
      },
      "execution_count": 33,
      "outputs": []
    },
    {
      "cell_type": "code",
      "source": [
        "\n",
        "# Make the relative plot\n",
        "\n",
        "plot(aucpr_val_knn)\n",
        "plot(auc_plot_knn, main=paste(\"AUC:\", auc_val_knn@y.values[[1]]))\n",
        "plot(aucpr_plot_knn, main=paste(\"AUCPR:\", aucpr_val_knn$auc.integral))\n"
      ],
      "metadata": {
        "colab": {
          "base_uri": "https://localhost:8080/",
          "height": 1000
        },
        "id": "PdOsIGisJcoV",
        "outputId": "2df5aaa8-649e-4269-c8ff-abe70df06354"
      },
      "execution_count": 34,
      "outputs": [
        {
          "output_type": "display_data",
          "data": {
            "text/plain": [
              "Plot with title “PR curve\n",
              "AUC = 0.5797557”"
            ],
            "image/png": "[encoded data removed]"
          },
          "metadata": {
            "image/png": {
              "width": 420,
              "height": 420
            }
          }
        },
        {
          "output_type": "display_data",
          "data": {
            "text/plain": [
              "Plot with title “AUC: 0.816273772228058”"
            ],
            "image/png": "[encoded data removed]"
          },
          "metadata": {
            "image/png": {
              "width": 420,
              "height": 420
            }
          }
        },
        {
          "output_type": "display_data",
          "data": {
            "text/plain": [
              "Plot with title “AUCPR: 0.579755719213291”"
            ],
            "image/png": "[encoded data removed]"
          },
          "metadata": {
            "image/png": {
              "width": 420,
              "height": 420
            }
          }
        }
      ]
    },
    {
      "cell_type": "code",
      "source": [
        "# Adding the respective metrics to the results dataset\n",
        "\n",
        "results <- results %>% add_row(\n",
        "  Model = \"K-Nearest Neighbors k=5\",\n",
        "  AUC = auc_val_knn@y.values[[1]],\n",
        "  AUCPR = aucpr_val_knn$auc.integral\n",
        ")"
      ],
      "metadata": {
        "id": "63I9o0OmJdIH"
      },
      "execution_count": 35,
      "outputs": []
    },
    {
      "cell_type": "code",
      "source": [
        "\n",
        "# Show results on a table\n",
        "\n",
        "results %>%\n",
        "  kable() %>%\n",
        "  kable_styling(bootstrap_options = c(\"striped\", \"hover\", \"condensed\", \"responsive\"),\n",
        "                position = \"center\",\n",
        "                font_size = 10,\n",
        "                full_width = FALSE)\n"
      ],
      "metadata": {
        "colab": {
          "base_uri": "https://localhost:8080/",
          "height": 468
        },
        "id": "UlGaC9hvJe4a",
        "outputId": "16f85f15-c1bf-4c96-c804-e55fac7f2089"
      },
      "execution_count": 36,
      "outputs": [
        {
          "output_type": "display_data",
          "data": {
            "text/plain": [
              "<table class=\"table table-striped table-hover table-condensed table-responsive\" style=\"font-size: 10px; width: auto !important; margin-left: auto; margin-right: auto;\">\n",
              " <thead>\n",
              "  <tr>\n",
              "   <th style=\"text-align:left;\"> Model </th>\n",
              "   <th style=\"text-align:right;\"> AUC </th>\n",
              "   <th style=\"text-align:right;\"> AUCPR </th>\n",
              "  </tr>\n",
              " </thead>\n",
              "<tbody>\n",
              "  <tr>\n",
              "   <td style=\"text-align:left;\"> Naive Baseline - Predict Always Legal </td>\n",
              "   <td style=\"text-align:right;\"> 0.5000000 </td>\n",
              "   <td style=\"text-align:right;\"> 0.0000000 </td>\n",
              "  </tr>\n",
              "  <tr>\n",
              "   <td style=\"text-align:left;\"> Naive Bayes </td>\n",
              "   <td style=\"text-align:right;\"> 0.9175977 </td>\n",
              "   <td style=\"text-align:right;\"> 0.0548969 </td>\n",
              "  </tr>\n",
              "  <tr>\n",
              "   <td style=\"text-align:left;\"> K-Nearest Neighbors k=5 </td>\n",
              "   <td style=\"text-align:right;\"> 0.8162738 </td>\n",
              "   <td style=\"text-align:right;\"> 0.5797557 </td>\n",
              "  </tr>\n",
              "</tbody>\n",
              "</table>"
            ]
          },
          "metadata": {}
        }
      ]
    },
    {
      "cell_type": "code",
      "source": [
        "\n",
        "# Set seed 1234 for reproducibility\n",
        "\n",
        "set.seed(1234)\n",
        "\n",
        "# Build a SVM Model with Class as Target and all other\n",
        "# variables as predictors. The kernel is set to sigmoid\n",
        "\n",
        "svm_model <- svm(Class ~ ., data = train, kernel='sigmoid')\n",
        "\n",
        "# Make predictions based on this model\n",
        "\n",
        "predictions <- predict(svm_model, newdata=test)\n",
        "\n",
        "# Compute AUC and AUCPR\n",
        "\n",
        "pred <- prediction(\n",
        "  as.numeric(as.character(predictions)),                                 as.numeric(as.character(test$Class))\n",
        ")\n",
        "\n",
        "auc_val_svm <- performance(pred, \"auc\")\n",
        "\n",
        "auc_plot_svm <- performance(pred, 'sens', 'spec')\n",
        "aucpr_plot_svm <- performance(pred, \"prec\", \"rec\")\n",
        "\n",
        "aucpr_val_svm <- pr.curve(\n",
        "  scores.class0 = predictions[test$Class == 1],\n",
        "  scores.class1 = predictions[test$Class == 0],\n",
        "  curve = T,\n",
        "  dg.compute = T\n",
        ")\n"
      ],
      "metadata": {
        "id": "cwNyPQyFJmGr"
      },
      "execution_count": 37,
      "outputs": []
    },
    {
      "cell_type": "code",
      "source": [
        "\n",
        "# Make the relative plot\n",
        "\n",
        "plot(aucpr_val_svm)\n",
        "plot(auc_plot_svm, main=paste(\"AUC:\", auc_val_svm@y.values[[1]]))\n",
        "plot(aucpr_plot_svm, main=paste(\"AUCPR:\", aucpr_val_svm$auc.integral))"
      ],
      "metadata": {
        "colab": {
          "base_uri": "https://localhost:8080/",
          "height": 1000
        },
        "id": "lq3fd52bJmuP",
        "outputId": "d28434d6-e416-4082-b222-d319c1b4f9a4"
      },
      "execution_count": 38,
      "outputs": [
        {
          "output_type": "display_data",
          "data": {
            "text/plain": [
              "Plot with title “PR curve\n",
              "AUC = 0.3196189”"
            ],
            "image/png": "[encoded data removed]"
          },
          "metadata": {
            "image/png": {
              "width": 420,
              "height": 420
            }
          }
        },
        {
          "output_type": "display_data",
          "data": {
            "text/plain": [
              "Plot with title “AUC: 0.775158481520389”"
            ],
            "image/png": "[encoded data removed]"
          },
          "metadata": {
            "image/png": {
              "width": 420,
              "height": 420
            }
          }
        },
        {
          "output_type": "display_data",
          "data": {
            "text/plain": [
              "Plot with title “AUCPR: 0.319618862730037”"
            ],
            "image/png": "[encoded data removed]"
          },
          "metadata": {
            "image/png": {
              "width": 420,
              "height": 420
            }
          }
        }
      ]
    },
    {
      "cell_type": "code",
      "source": [
        "# Adding the respective metrics to the results dataset\n",
        "\n",
        "results <- results %>% add_row(\n",
        "  Model = \"SVM - Support Vector Machine\",\n",
        "  AUC = auc_val_svm@y.values[[1]],\n",
        "  AUCPR = aucpr_val_svm$auc.integral)"
      ],
      "metadata": {
        "id": "HLPciQHXJqds"
      },
      "execution_count": 39,
      "outputs": []
    },
    {
      "cell_type": "code",
      "source": [
        "\n",
        "# Show results on a table\n",
        "\n",
        "results %>%\n",
        "  kable() %>%\n",
        "  kable_styling(bootstrap_options = c(\"striped\", \"hover\", \"condensed\",           \"responsive\"),\n",
        "                position = \"center\",\n",
        "                font_size = 10,\n",
        "                full_width = FALSE)"
      ],
      "metadata": {
        "colab": {
          "base_uri": "https://localhost:8080/",
          "height": 555
        },
        "id": "Vt5Hvup8Jr2Q",
        "outputId": "e20fa742-c2c6-47d9-bb0f-644711c7172e"
      },
      "execution_count": 40,
      "outputs": [
        {
          "output_type": "display_data",
          "data": {
            "text/plain": [
              "<table class=\"table table-striped table-hover table-condensed table-responsive\" style=\"font-size: 10px; width: auto !important; margin-left: auto; margin-right: auto;\">\n",
              " <thead>\n",
              "  <tr>\n",
              "   <th style=\"text-align:left;\"> Model </th>\n",
              "   <th style=\"text-align:right;\"> AUC </th>\n",
              "   <th style=\"text-align:right;\"> AUCPR </th>\n",
              "  </tr>\n",
              " </thead>\n",
              "<tbody>\n",
              "  <tr>\n",
              "   <td style=\"text-align:left;\"> Naive Baseline - Predict Always Legal </td>\n",
              "   <td style=\"text-align:right;\"> 0.5000000 </td>\n",
              "   <td style=\"text-align:right;\"> 0.0000000 </td>\n",
              "  </tr>\n",
              "  <tr>\n",
              "   <td style=\"text-align:left;\"> Naive Bayes </td>\n",
              "   <td style=\"text-align:right;\"> 0.9175977 </td>\n",
              "   <td style=\"text-align:right;\"> 0.0548969 </td>\n",
              "  </tr>\n",
              "  <tr>\n",
              "   <td style=\"text-align:left;\"> K-Nearest Neighbors k=5 </td>\n",
              "   <td style=\"text-align:right;\"> 0.8162738 </td>\n",
              "   <td style=\"text-align:right;\"> 0.5797557 </td>\n",
              "  </tr>\n",
              "  <tr>\n",
              "   <td style=\"text-align:left;\"> SVM - Support Vector Machine </td>\n",
              "   <td style=\"text-align:right;\"> 0.7751585 </td>\n",
              "   <td style=\"text-align:right;\"> 0.3196189 </td>\n",
              "  </tr>\n",
              "</tbody>\n",
              "</table>"
            ]
          },
          "metadata": {}
        }
      ]
    },
    {
      "cell_type": "code",
      "source": [
        "\n",
        "# Set seed 1234 for reproducibility\n",
        "\n",
        "set.seed(1234)"
      ],
      "metadata": {
        "id": "e-WHwwgWJtGA"
      },
      "execution_count": 41,
      "outputs": []
    },
    {
      "cell_type": "code",
      "source": [
        "# Build a Random Forest Model with Class as Target and all other\n",
        "# variables as predictors. The number of trees is set to 500\n",
        "\n",
        "rf_model <- randomForest(Class ~ ., data = train, ntree = 500)\n",
        "\n",
        "# Get the feature importance\n",
        "\n",
        "feature_imp_rf <- data.frame(importance(rf_model))"
      ],
      "metadata": {
        "id": "tPVd1GKYJudE"
      },
      "execution_count": 42,
      "outputs": []
    },
    {
      "cell_type": "code",
      "source": [
        "# Make predictions based on this model\n",
        "\n",
        "predictions <- predict(rf_model, newdata=test)\n",
        "\n",
        "# Compute the AUC and AUPCR\n",
        "\n",
        "pred <- prediction(\n",
        "  as.numeric(as.character(predictions)), as.numeric(as.character(test$Class))\n",
        ")\n",
        "\n",
        "auc_val_rf <- performance(pred, \"auc\")\n",
        "\n",
        "auc_plot_rf <- performance(pred, 'sens', 'spec')\n",
        "\n",
        "aucpr_plot_rf <- performance(pred, \"prec\", \"rec\", curve = T,  dg.compute = T)\n",
        "\n",
        "aucpr_val_rf <- pr.curve(scores.class0 = predictions[test$Class == 1], scores.class1 = predictions[test$Class == 0],curve = T,  dg.compute = T)\n"
      ],
      "metadata": {
        "id": "tWfdQXUTJytv"
      },
      "execution_count": 43,
      "outputs": []
    },
    {
      "cell_type": "code",
      "source": [
        "# make the relative plot\n",
        "\n",
        "plot(auc_plot_rf, main=paste(\"AUC:\", auc_val_rf@y.values[[1]]))\n",
        "plot(aucpr_plot_rf, main=paste(\"AUCPR:\", aucpr_val_rf$auc.integral))\n",
        "plot(aucpr_val_rf)"
      ],
      "metadata": {
        "colab": {
          "base_uri": "https://localhost:8080/",
          "height": 1000
        },
        "id": "Sx6aUsIgJ4V4",
        "outputId": "d296c106-3561-490a-bcfb-79e98a0aac3b"
      },
      "execution_count": 44,
      "outputs": [
        {
          "output_type": "display_data",
          "data": {
            "text/plain": [
              "Plot with title “AUC: 0.897932804481376”"
            ],
            "image/png": "[encoded data removed]"
          },
          "metadata": {
            "image/png": {
              "width": 420,
              "height": 420
            }
          }
        },
        {
          "output_type": "display_data",
          "data": {
            "text/plain": [
              "Plot with title “AUCPR: 0.768345660673728”"
            ],
            "image/png": "[encoded data removed]"
          },
          "metadata": {
            "image/png": {
              "width": 420,
              "height": 420
            }
          }
        },
        {
          "output_type": "display_data",
          "data": {
            "text/plain": [
              "Plot with title “PR curve\n",
              "AUC = 0.7683457”"
            ],
            "image/png": "[encoded data removed]"
          },
          "metadata": {
            "image/png": {
              "width": 420,
              "height": 420
            }
          }
        }
      ]
    },
    {
      "cell_type": "code",
      "source": [
        "# Adding the respective metrics to the results dataset\n",
        "\n",
        "results <- results %>% add_row(\n",
        "  Model = \"Random Forest\",\n",
        "  AUC = auc_val_rf@y.values[[1]],\n",
        "  AUCPR = aucpr_val_rf$auc.integral)"
      ],
      "metadata": {
        "id": "MOnBwYJbJ4m0"
      },
      "execution_count": 45,
      "outputs": []
    },
    {
      "cell_type": "code",
      "source": [
        "# Show results on a table\n",
        "\n",
        "results %>%\n",
        "  kable() %>%\n",
        "  kable_styling(bootstrap_options = c(\"striped\", \"hover\", \"condensed\", \"responsive\"),\n",
        "                position = \"center\",\n",
        "                font_size = 10,\n",
        "                full_width = FALSE)\n"
      ],
      "metadata": {
        "colab": {
          "base_uri": "https://localhost:8080/",
          "height": 642
        },
        "id": "SbfwwW3hJ6C0",
        "outputId": "990a46cf-6bf6-448f-9310-7dde6afac6d7"
      },
      "execution_count": 46,
      "outputs": [
        {
          "output_type": "display_data",
          "data": {
            "text/plain": [
              "<table class=\"table table-striped table-hover table-condensed table-responsive\" style=\"font-size: 10px; width: auto !important; margin-left: auto; margin-right: auto;\">\n",
              " <thead>\n",
              "  <tr>\n",
              "   <th style=\"text-align:left;\"> Model </th>\n",
              "   <th style=\"text-align:right;\"> AUC </th>\n",
              "   <th style=\"text-align:right;\"> AUCPR </th>\n",
              "  </tr>\n",
              " </thead>\n",
              "<tbody>\n",
              "  <tr>\n",
              "   <td style=\"text-align:left;\"> Naive Baseline - Predict Always Legal </td>\n",
              "   <td style=\"text-align:right;\"> 0.5000000 </td>\n",
              "   <td style=\"text-align:right;\"> 0.0000000 </td>\n",
              "  </tr>\n",
              "  <tr>\n",
              "   <td style=\"text-align:left;\"> Naive Bayes </td>\n",
              "   <td style=\"text-align:right;\"> 0.9175977 </td>\n",
              "   <td style=\"text-align:right;\"> 0.0548969 </td>\n",
              "  </tr>\n",
              "  <tr>\n",
              "   <td style=\"text-align:left;\"> K-Nearest Neighbors k=5 </td>\n",
              "   <td style=\"text-align:right;\"> 0.8162738 </td>\n",
              "   <td style=\"text-align:right;\"> 0.5797557 </td>\n",
              "  </tr>\n",
              "  <tr>\n",
              "   <td style=\"text-align:left;\"> SVM - Support Vector Machine </td>\n",
              "   <td style=\"text-align:right;\"> 0.7751585 </td>\n",
              "   <td style=\"text-align:right;\"> 0.3196189 </td>\n",
              "  </tr>\n",
              "  <tr>\n",
              "   <td style=\"text-align:left;\"> Random Forest </td>\n",
              "   <td style=\"text-align:right;\"> 0.8979328 </td>\n",
              "   <td style=\"text-align:right;\"> 0.7683457 </td>\n",
              "  </tr>\n",
              "</tbody>\n",
              "</table>"
            ]
          },
          "metadata": {}
        }
      ]
    },
    {
      "cell_type": "code",
      "source": [
        "\n",
        "# Show feature importance on a table\n",
        "\n",
        "feature_imp_rf %>%\n",
        "  kable() %>%\n",
        "  kable_styling(bootstrap_options = c(\"striped\", \"hover\", \"condensed\", \"responsive\"),\n",
        "                position = \"center\",\n",
        "                font_size = 10,\n",
        "                full_width = FALSE)"
      ],
      "metadata": {
        "colab": {
          "base_uri": "https://localhost:8080/",
          "height": 1000
        },
        "id": "Sd91b952J77e",
        "outputId": "ea5186fc-5ad8-4858-f650-946ea8a7a346"
      },
      "execution_count": 47,
      "outputs": [
        {
          "output_type": "display_data",
          "data": {
            "text/plain": [
              "<table class=\"table table-striped table-hover table-condensed table-responsive\" style=\"font-size: 10px; width: auto !important; margin-left: auto; margin-right: auto;\">\n",
              " <thead>\n",
              "  <tr>\n",
              "   <th style=\"text-align:left;\">  </th>\n",
              "   <th style=\"text-align:right;\"> MeanDecreaseGini </th>\n",
              "  </tr>\n",
              " </thead>\n",
              "<tbody>\n",
              "  <tr>\n",
              "   <td style=\"text-align:left;\"> V1 </td>\n",
              "   <td style=\"text-align:right;\"> 8.708982 </td>\n",
              "  </tr>\n",
              "  <tr>\n",
              "   <td style=\"text-align:left;\"> V2 </td>\n",
              "   <td style=\"text-align:right;\"> 7.784292 </td>\n",
              "  </tr>\n",
              "  <tr>\n",
              "   <td style=\"text-align:left;\"> V3 </td>\n",
              "   <td style=\"text-align:right;\"> 8.985490 </td>\n",
              "  </tr>\n",
              "  <tr>\n",
              "   <td style=\"text-align:left;\"> V4 </td>\n",
              "   <td style=\"text-align:right;\"> 17.257080 </td>\n",
              "  </tr>\n",
              "  <tr>\n",
              "   <td style=\"text-align:left;\"> V5 </td>\n",
              "   <td style=\"text-align:right;\"> 7.772203 </td>\n",
              "  </tr>\n",
              "  <tr>\n",
              "   <td style=\"text-align:left;\"> V6 </td>\n",
              "   <td style=\"text-align:right;\"> 8.821890 </td>\n",
              "  </tr>\n",
              "  <tr>\n",
              "   <td style=\"text-align:left;\"> V7 </td>\n",
              "   <td style=\"text-align:right;\"> 19.072039 </td>\n",
              "  </tr>\n",
              "  <tr>\n",
              "   <td style=\"text-align:left;\"> V8 </td>\n",
              "   <td style=\"text-align:right;\"> 7.013489 </td>\n",
              "  </tr>\n",
              "  <tr>\n",
              "   <td style=\"text-align:left;\"> V9 </td>\n",
              "   <td style=\"text-align:right;\"> 23.520504 </td>\n",
              "  </tr>\n",
              "  <tr>\n",
              "   <td style=\"text-align:left;\"> V10 </td>\n",
              "   <td style=\"text-align:right;\"> 43.772484 </td>\n",
              "  </tr>\n",
              "  <tr>\n",
              "   <td style=\"text-align:left;\"> V11 </td>\n",
              "   <td style=\"text-align:right;\"> 44.997607 </td>\n",
              "  </tr>\n",
              "  <tr>\n",
              "   <td style=\"text-align:left;\"> V12 </td>\n",
              "   <td style=\"text-align:right;\"> 73.056009 </td>\n",
              "  </tr>\n",
              "  <tr>\n",
              "   <td style=\"text-align:left;\"> V13 </td>\n",
              "   <td style=\"text-align:right;\"> 6.829304 </td>\n",
              "  </tr>\n",
              "  <tr>\n",
              "   <td style=\"text-align:left;\"> V14 </td>\n",
              "   <td style=\"text-align:right;\"> 63.479173 </td>\n",
              "  </tr>\n",
              "  <tr>\n",
              "   <td style=\"text-align:left;\"> V15 </td>\n",
              "   <td style=\"text-align:right;\"> 6.388524 </td>\n",
              "  </tr>\n",
              "  <tr>\n",
              "   <td style=\"text-align:left;\"> V16 </td>\n",
              "   <td style=\"text-align:right;\"> 40.124086 </td>\n",
              "  </tr>\n",
              "  <tr>\n",
              "   <td style=\"text-align:left;\"> V17 </td>\n",
              "   <td style=\"text-align:right;\"> 105.084852 </td>\n",
              "  </tr>\n",
              "  <tr>\n",
              "   <td style=\"text-align:left;\"> V18 </td>\n",
              "   <td style=\"text-align:right;\"> 16.236771 </td>\n",
              "  </tr>\n",
              "  <tr>\n",
              "   <td style=\"text-align:left;\"> V19 </td>\n",
              "   <td style=\"text-align:right;\"> 8.041600 </td>\n",
              "  </tr>\n",
              "  <tr>\n",
              "   <td style=\"text-align:left;\"> V20 </td>\n",
              "   <td style=\"text-align:right;\"> 8.359602 </td>\n",
              "  </tr>\n",
              "  <tr>\n",
              "   <td style=\"text-align:left;\"> V21 </td>\n",
              "   <td style=\"text-align:right;\"> 10.723973 </td>\n",
              "  </tr>\n",
              "  <tr>\n",
              "   <td style=\"text-align:left;\"> V22 </td>\n",
              "   <td style=\"text-align:right;\"> 5.886333 </td>\n",
              "  </tr>\n",
              "  <tr>\n",
              "   <td style=\"text-align:left;\"> V23 </td>\n",
              "   <td style=\"text-align:right;\"> 4.705090 </td>\n",
              "  </tr>\n",
              "  <tr>\n",
              "   <td style=\"text-align:left;\"> V24 </td>\n",
              "   <td style=\"text-align:right;\"> 6.127916 </td>\n",
              "  </tr>\n",
              "  <tr>\n",
              "   <td style=\"text-align:left;\"> V25 </td>\n",
              "   <td style=\"text-align:right;\"> 5.290926 </td>\n",
              "  </tr>\n",
              "  <tr>\n",
              "   <td style=\"text-align:left;\"> V26 </td>\n",
              "   <td style=\"text-align:right;\"> 10.888757 </td>\n",
              "  </tr>\n",
              "  <tr>\n",
              "   <td style=\"text-align:left;\"> V27 </td>\n",
              "   <td style=\"text-align:right;\"> 9.216603 </td>\n",
              "  </tr>\n",
              "  <tr>\n",
              "   <td style=\"text-align:left;\"> V28 </td>\n",
              "   <td style=\"text-align:right;\"> 6.266699 </td>\n",
              "  </tr>\n",
              "  <tr>\n",
              "   <td style=\"text-align:left;\"> Amount </td>\n",
              "   <td style=\"text-align:right;\"> 7.974071 </td>\n",
              "  </tr>\n",
              "</tbody>\n",
              "</table>"
            ]
          },
          "metadata": {}
        }
      ]
    },
    {
      "cell_type": "code",
      "source": [
        "\n",
        "# Set seet 1234 for reproducibility\n",
        "\n",
        "set.seed(1234)"
      ],
      "metadata": {
        "id": "6uqRiuhjJ9U4"
      },
      "execution_count": 1,
      "outputs": []
    },
    {
      "cell_type": "code",
      "source": [
        "# # Build a GBM Model with Class as Target and all other\n",
        "# # variables as predictors. Distribution is bernoully,\n",
        "# # number of tree is 500\n",
        "\n",
        "# gbm_model <- gbm(as.character(Class) ~ .,\n",
        "#                  distribution = \"bernoulli\",\n",
        "#                  data = rbind(train, test),\n",
        "#                  n.trees = 500,\n",
        "#                  interaction.depth = 3,\n",
        "#                  n.minobsinnode = 100,\n",
        "#                  shrinkage = 0.01,\n",
        "#                  train.fraction = 0.7,\n",
        "# )\n",
        "\n",
        "# # Determine the best iteration based on test data\n",
        "\n",
        "# best_iter = gbm.perf(gbm_model, method = \"test\")"
      ],
      "metadata": {
        "colab": {
          "base_uri": "https://localhost:8080/",
          "height": 72
        },
        "id": "KPUsB896KAWG",
        "outputId": "dff84135-786f-4b75-fd9d-b3adedc04a81"
      },
      "execution_count": 2,
      "outputs": [
        {
          "output_type": "error",
          "ename": "ERROR",
          "evalue": "Error in gbm(as.character(Class) ~ ., distribution = \"bernoulli\", data = rbind(train, : could not find function \"gbm\"\n",
          "traceback": [
            "Error in gbm(as.character(Class) ~ ., distribution = \"bernoulli\", data = rbind(train, : could not find function \"gbm\"\nTraceback:\n"
          ]
        }
      ]
    },
    {
      "cell_type": "code",
      "source": [
        "# # Make predictions based on this model\n",
        "\n",
        "# predictions = predict.gbm(\n",
        "#   gbm_model,\n",
        "#   newdata = test,\n",
        "#   n.trees = best_iter,\n",
        "#   type=\"response\"\n",
        "# )\n",
        "\n",
        "# # Get feature importance\n",
        "\n",
        "# feature_imp_gbm = summary(gbm_model, n.trees = best_iter)\n",
        "\n",
        "# # Compute the AUC and AUPCR\n",
        "\n",
        "# pred <- prediction(\n",
        "#   as.numeric(as.character(predictions)), as.numeric(as.character(test$Class))\n",
        "# )\n",
        "\n",
        "# auc_val_gbm <- performance(pred, \"auc\")\n",
        "\n",
        "# auc_plot_gbm <- performance(pred, 'sens', 'spec')\n",
        "# aucpr_plot_gbm <- performance(pred, \"prec\", \"rec\")\n",
        "\n",
        "# aucpr_val_gbm <- pr.curve(\n",
        "#   scores.class0 = predictions[test$Class == 1],\n",
        "#   scores.class1 = predictions[test$Class == 0],\n",
        "#   curve = T,\n",
        "#   dg.compute = T\n",
        "# )\n"
      ],
      "metadata": {
        "id": "l4ooyVlqKDGu"
      },
      "execution_count": null,
      "outputs": []
    },
    {
      "cell_type": "code",
      "source": [
        "# # Make the relative plot\n",
        "\n",
        "# plot(aucpr_val_gbm)\n",
        "# plot(auc_plot_gbm, main=paste(\"AUC:\", auc_val_gbm@y.values[[1]]))\n",
        "# plot(aucpr_plot_gbm, main=paste(\"AUCPR:\", aucpr_val_gbm$auc.integral))\n",
        "\n",
        "# # Adding the respective metrics to the results dataset\n",
        "\n",
        "# results <- results %>% add_row(\n",
        "#   Model = \"GBM - Generalized Boosted Regression\",\n",
        "#   AUC = auc_val_gbm@y.values[[1]],\n",
        "#   AUCPR = aucpr_val_gbm$auc.integral)\n"
      ],
      "metadata": {
        "id": "Zw2AmmtcKGEt"
      },
      "execution_count": null,
      "outputs": []
    },
    {
      "cell_type": "code",
      "source": [
        "# # Show results on a table\n",
        "\n",
        "# results %>%\n",
        "#   kable() %>%\n",
        "#   kable_styling(bootstrap_options = c(\"striped\", \"hover\", \"condensed\",           \"responsive\"),\n",
        "#                 position = \"center\",\n",
        "#                 font_size = 10,\n",
        "#                 full_width = FALSE)\n",
        "\n",
        "# # Show feature importance on a table\n",
        "\n",
        "# feature_imp_gbm %>%\n",
        "#   kable() %>%\n",
        "#   kable_styling(bootstrap_options = c(\"striped\", \"hover\", \"condensed\",           \"responsive\"),\n",
        "#                 position = \"center\",\n",
        "#                 font_size = 10,\n",
        "#                 full_width = FALSE)\n",
        "\n",
        "\n",
        "# Set seet 1234 for reproducibility\n",
        "\n",
        "set.seed(1234)"
      ],
      "metadata": {
        "id": "Kta4r5A3Knj5"
      },
      "execution_count": 4,
      "outputs": []
    },
    {
      "cell_type": "code",
      "source": [
        "# Prepare the training dataset\n",
        "\n",
        "xgb_train <- xgb.DMatrix(\n",
        "  as.matrix(train[, colnames(train) != \"Class\"]),\n",
        "  label = as.numeric(as.character(train$Class))\n",
        ")\n",
        "\n",
        "# Prepare the test dataset\n",
        "\n",
        "xgb_test <- xgb.DMatrix(\n",
        "  as.matrix(test[, colnames(test) != \"Class\"]),\n",
        "  label = as.numeric(as.character(test$Class))\n",
        ")\n",
        "\n",
        "# Prepare the cv dataset\n",
        "\n",
        "xgb_cv <- xgb.DMatrix(\n",
        "  as.matrix(cv[, colnames(cv) != \"Class\"]),\n",
        "  label = as.numeric(as.character(cv$Class))\n",
        ")"
      ],
      "metadata": {
        "colab": {
          "base_uri": "https://localhost:8080/",
          "height": 72
        },
        "id": "DxZHdKW_Kqd9",
        "outputId": "565f9365-74c1-4b46-b63b-54cfcb6900a3"
      },
      "execution_count": 5,
      "outputs": [
        {
          "output_type": "error",
          "ename": "ERROR",
          "evalue": "Error in xgb.DMatrix(as.matrix(train[, colnames(train) != \"Class\"]), label = as.numeric(as.character(train$Class))): could not find function \"xgb.DMatrix\"\n",
          "traceback": [
            "Error in xgb.DMatrix(as.matrix(train[, colnames(train) != \"Class\"]), label = as.numeric(as.character(train$Class))): could not find function \"xgb.DMatrix\"\nTraceback:\n"
          ]
        }
      ]
    },
    {
      "cell_type": "code",
      "source": [
        "\n",
        "# Prepare the parameters list.\n",
        "\n",
        "xgb_params <- list(\n",
        "  objective = \"binary:logistic\",\n",
        "  eta = 0.1,\n",
        "  max.depth = 3,\n",
        "  nthread = 6,\n",
        "  eval_metric = \"aucpr\"\n",
        ")"
      ],
      "metadata": {
        "id": "QliT009KKyOt"
      },
      "execution_count": null,
      "outputs": []
    },
    {
      "cell_type": "code",
      "source": [
        "\n",
        "# Train the XGBoost Model\n",
        "\n",
        "xgb_model <- xgb.train(\n",
        "  data = xgb_train,\n",
        "  params = xgb_params,\n",
        "  watchlist = list(test = xgb_test, cv = xgb_cv),\n",
        "  nrounds = 500,\n",
        "  early_stopping_rounds = 40,\n",
        "  print_every_n = 20\n",
        ")"
      ],
      "metadata": {
        "colab": {
          "base_uri": "https://localhost:8080/",
          "height": 72
        },
        "id": "ubiA1YmFKzvJ",
        "outputId": "2e2f13a4-10d1-4b99-e9e9-bff450a4084f"
      },
      "execution_count": 3,
      "outputs": [
        {
          "output_type": "error",
          "ename": "ERROR",
          "evalue": "Error in xgb.train(data = xgb_train, params = xgb_params, watchlist = list(test = xgb_test, : could not find function \"xgb.train\"\n",
          "traceback": [
            "Error in xgb.train(data = xgb_train, params = xgb_params, watchlist = list(test = xgb_test, : could not find function \"xgb.train\"\nTraceback:\n"
          ]
        }
      ]
    },
    {
      "cell_type": "code",
      "source": [
        "\n",
        "# Get feature importance\n",
        "\n",
        "feature_imp_xgb <- xgb.importance(colnames(train), model = xgb_model)\n",
        "\n",
        "xgb.plot.importance(feature_imp_xgb, rel_to_first = TRUE, xlab = \"Relative importance\")\n",
        "\n",
        "# Make predictions based on this model\n",
        "\n",
        "predictions = predict(\n",
        "  xgb_model,\n",
        "  newdata = as.matrix(test[, colnames(test) != \"Class\"]),\n",
        "  ntreelimit = xgb_model$bestInd\n",
        ")\n",
        "\n",
        "# Compute the AUC and AUPCR\n",
        "\n",
        "pred <- prediction(\n",
        "  as.numeric(as.character(predictions)),                                 as.numeric(as.character(test$Class))\n",
        ")\n",
        "\n",
        "auc_val_xgb <- performance(pred, \"auc\")\n",
        "\n",
        "auc_plot_xgb <- performance(pred, 'sens', 'spec')\n",
        "aucpr_plot_xgb <- performance(pred, \"prec\", \"rec\")\n",
        "\n",
        "aucpr_val_xgb <- pr.curve(\n",
        "  scores.class0 = predictions[test$Class == 1],\n",
        "  scores.class1 = predictions[test$Class == 0],\n",
        "  curve = T,\n",
        "  dg.compute = T\n",
        ")"
      ],
      "metadata": {
        "id": "pXsZ25D4K1G9"
      },
      "execution_count": null,
      "outputs": []
    },
    {
      "cell_type": "code",
      "source": [
        "# Make the relative plot\n",
        "\n",
        "plot(auc_plot_xgb, main=paste(\"AUC:\", auc_val_xgb@y.values[[1]]))\n",
        "plot(aucpr_plot_xgb, main=paste(\"AUCPR:\", aucpr_val_xgb$auc.integral))\n",
        "plot(aucpr_val_xgb)\n",
        "\n",
        "# Adding the respective metrics to the results dataset\n",
        "\n",
        "results <- results %>% add_row(\n",
        "  Model = \"XGBoost\",\n",
        "  AUC = auc_val_xgb@y.values[[1]],\n",
        "  AUCPR = aucpr_val_xgb$auc.integral)\n",
        "\n",
        "# Show results on a table\n",
        "\n",
        "results %>%\n",
        "  kable() %>%\n",
        "  kable_styling(bootstrap_options = c(\"striped\", \"hover\", \"condensed\",           \"responsive\"),\n",
        "                position = \"center\",\n",
        "                font_size = 10,\n",
        "                full_width = FALSE)\n",
        "\n",
        "# Show feature importance on a table\n",
        "\n",
        "feature_imp_xgb %>%\n",
        "  kable() %>%\n",
        "  kable_styling(bootstrap_options = c(\"striped\", \"hover\", \"condensed\",           \"responsive\"),\n",
        "                position = \"center\",\n",
        "                font_size = 10,\n",
        "                full_width = FALSE)\n",
        "\n",
        "# Set seet 1234 for reproducibility\n",
        "\n",
        "set.seed(1234)"
      ],
      "metadata": {
        "id": "FWxZknuqK4H5"
      },
      "execution_count": null,
      "outputs": []
    },
    {
      "cell_type": "code",
      "source": [
        "# Prepare the training dataset\n",
        "\n",
        "lgb_train <- lgb.Dataset(\n",
        "  as.matrix(train[, colnames(train) != \"Class\"]),\n",
        "  label = as.numeric(as.character(train$Class))\n",
        ")\n",
        "\n",
        "# Prepare the test dataset\n",
        "\n",
        "lgb_test <- lgb.Dataset(\n",
        "  as.matrix(test[, colnames(test) != \"Class\"]),\n",
        "  label = as.numeric(as.character(test$Class))\n",
        ")"
      ],
      "metadata": {
        "id": "shDRbTjfK7GG"
      },
      "execution_count": null,
      "outputs": []
    },
    {
      "cell_type": "code",
      "source": [
        "\n",
        "# Prepare the cvtaset\n",
        "\n",
        "lgb_cv <- lgb.Dataset(\n",
        "  as.matrix(cv[, colnames(cv) != \"Class\"]),\n",
        "  label = as.numeric(as.character(cv$Class))\n",
        ")\n",
        "\n",
        "# Prepare the parameters list\n",
        "\n",
        "lgb_params = list(\n",
        "  objective = \"binary\",\n",
        "  metric = \"binary_error\"\n",
        ")"
      ],
      "metadata": {
        "id": "DE2XL-rPK8zV"
      },
      "execution_count": null,
      "outputs": []
    },
    {
      "cell_type": "code",
      "source": [
        "\n",
        "# # Train the LightGBM Model\n",
        "\n",
        "# lgb_model <- lgb.train(\n",
        "#   params = lgb_params,\n",
        "#   data = lgb_train,\n",
        "#   valids = list(test = lgb_test, cv = lgb_cv),\n",
        "#   learning_rate = 0.01,\n",
        "#   nrounds = 500,\n",
        "#   early_stopping_rounds = 40,\n",
        "#   eval_freq = 20\n",
        "# )\n"
      ],
      "metadata": {
        "id": "61vIFt02K-tl"
      },
      "execution_count": null,
      "outputs": []
    },
    {
      "cell_type": "code",
      "source": [
        "\n",
        "# # Get feature importance\n",
        "\n",
        "# feature_imp_lgb = lgb.importance(lgb_model, percentage = TRUE)\n",
        "\n",
        "# # Make predictions based on this model\n",
        "\n",
        "# predictions = predict(\n",
        "#   lgb_model,\n",
        "#   data = as.matrix(test[, colnames(test) != \"Class\"]),\n",
        "#   n = lgb_model$best_iter)\n",
        "\n",
        "# # Compute the AUC and AUPCR\n",
        "\n",
        "# pred <- prediction(\n",
        "#   predictions,\n",
        "#   as.numeric(as.character(test$Class))\n",
        "# )\n",
        "\n",
        "# auc_val_lgb <- performance(pred, \"auc\")\n",
        "\n",
        "# auc_plot_lgb <- performance(pred, 'sens', 'spec')\n",
        "# aucpr_plot_lgb <- performance(pred, \"prec\", \"rec\")\n",
        "\n",
        "# aucpr_val_lgb <- pr.curve(\n",
        "#   scores.class0 = predictions[test$Class == 1],\n",
        "#   scores.class1 = predictions[test$Class == 0],\n",
        "#   curve = T,\n",
        "#   dg.compute = T\n",
        "# )"
      ],
      "metadata": {
        "id": "lsvRnES2LA7l"
      },
      "execution_count": null,
      "outputs": []
    },
    {
      "cell_type": "code",
      "source": [
        "\n",
        "# # Make the relative plot\n",
        "\n",
        "# plot(aucpr_val_lgb)\n",
        "# plot(auc_plot_lgb, main=paste(\"AUC:\", auc_val_lgb@y.values[[1]]))\n",
        "# plot(aucpr_plot_lgb, main=paste(\"AUCPR:\", aucpr_val_lgb$auc.integral))\n",
        "\n",
        "# # Adding the respective metrics to the results dataset\n",
        "\n",
        "# results <- results %>% add_row(\n",
        "#   Model = \"LightGBM\",\n",
        "#   AUC = auc_val_lgb@y.values[[1]],\n",
        "#   AUCPR = aucpr_val_lgb$auc.integral\n",
        "# )\n",
        "\n",
        "# # Show results on a table\n",
        "\n",
        "# results %>%\n",
        "#   kable() %>%\n",
        "#   kable_styling(bootstrap_options = c(\"striped\", \"hover\", \"condensed\",           \"responsive\"),\n",
        "#                 position = \"center\",\n",
        "#                 font_size = 10,\n",
        "#                 full_width = FALSE)\n",
        "\n",
        "# feature_imp_lgb %>%\n",
        "#   kable() %>%\n",
        "#   kable_styling(bootstrap_options = c(\"striped\", \"hover\", \"condensed\",           \"responsive\"),\n",
        "#                 position = \"center\",\n",
        "#                 font_size = 10,\n",
        "#                 full_width = FALSE)"
      ],
      "metadata": {
        "id": "axUlKW2xLD6p"
      },
      "execution_count": null,
      "outputs": []
    }
  ]
}